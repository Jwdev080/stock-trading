{
 "cells": [
  {
   "cell_type": "code",
   "execution_count": 14,
   "metadata": {},
   "outputs": [],
   "source": [
    "import numpy as np \n",
    "import pandas as pd \n",
    "import yfinance as yf"
   ]
  },
  {
   "cell_type": "code",
   "execution_count": 15,
   "metadata": {},
   "outputs": [
    {
     "data": {
      "text/html": [
       "<div>\n",
       "<style scoped>\n",
       "    .dataframe tbody tr th:only-of-type {\n",
       "        vertical-align: middle;\n",
       "    }\n",
       "\n",
       "    .dataframe tbody tr th {\n",
       "        vertical-align: top;\n",
       "    }\n",
       "\n",
       "    .dataframe thead th {\n",
       "        text-align: right;\n",
       "    }\n",
       "</style>\n",
       "<table border=\"1\" class=\"dataframe\">\n",
       "  <thead>\n",
       "    <tr style=\"text-align: right;\">\n",
       "      <th></th>\n",
       "      <th>Symbol</th>\n",
       "      <th>Name</th>\n",
       "      <th>Last Price</th>\n",
       "      <th>Change</th>\n",
       "      <th>% Change</th>\n",
       "      <th>Volume</th>\n",
       "      <th>Intraday High/Low</th>\n",
       "      <th>52 Week Range</th>\n",
       "      <th>Day Chart</th>\n",
       "    </tr>\n",
       "  </thead>\n",
       "  <tbody>\n",
       "    <tr>\n",
       "      <th>1</th>\n",
       "      <td>^DJI</td>\n",
       "      <td>Dow Jones Industrial Average</td>\n",
       "      <td>39806.77</td>\n",
       "      <td>-196.82</td>\n",
       "      <td>-0.49%</td>\n",
       "      <td>275.307M</td>\n",
       "      <td>NaN</td>\n",
       "      <td>NaN</td>\n",
       "      <td>NaN</td>\n",
       "    </tr>\n",
       "  </tbody>\n",
       "</table>\n",
       "</div>"
      ],
      "text/plain": [
       "  Symbol                          Name  Last Price  Change % Change    Volume  \\\n",
       "1   ^DJI  Dow Jones Industrial Average    39806.77 -196.82   -0.49%  275.307M   \n",
       "\n",
       "   Intraday High/Low  52 Week Range  Day Chart  \n",
       "1                NaN            NaN        NaN  "
      ]
     },
     "execution_count": 15,
     "metadata": {},
     "output_type": "execute_result"
    }
   ],
   "source": [
    "df_list = pd.read_html('https://finance.yahoo.com/world-indices/')\n",
    "majorStockIdx = df_list[0]\n",
    "dji_values = majorStockIdx[majorStockIdx['Symbol'] == '^DJI']\n",
    "dji_values\n"
   ]
  },
  {
   "cell_type": "code",
   "execution_count": 26,
   "metadata": {},
   "outputs": [],
   "source": [
    "import requests\n",
    "from bs4 import BeautifulSoup\n",
    "import time"
   ]
  },
  {
   "cell_type": "code",
   "execution_count": 28,
   "metadata": {},
   "outputs": [],
   "source": [
    "def session_get(session, url, **kwargs):\n",
    "    headers = {\n",
    "        'User-Agent': 'Mozilla/5.0 (Windows NT 10.0; Win64; x64) AppleWebKit/537.36 (KHTML, like Gecko) Chrome/92.0.4515.159 Safari/537.36'\n",
    "    }\n",
    "    retries = 5\n",
    "    while retries > 0:\n",
    "        try:\n",
    "            if 'headers' in kwargs:\n",
    "                kwargs['headers'][\n",
    "                    'User-Agent'] = 'Mozilla/5.0 (Windows NT 10.0; Win64; x64) AppleWebKit/537.36 (KHTML, like Gecko) Chrome/92.0.4515.159 Safari/537.36'\n",
    "                response = session.get(url, **kwargs)\n",
    "            else:\n",
    "                response = session.get(url, headers=headers, **kwargs)\n",
    "            if response.status_code in [200, 302]:\n",
    "                return response\n",
    "            time.sleep(2)\n",
    "            retries = retries - 1\n",
    "        except Exception as e:\n",
    "            time.sleep(2)\n",
    "            retries = retries - 1\n",
    "    raise Exception('server not available')\n",
    "\n",

    "def go():\n",
    "    url = \"https://www.investing.com/indices/major-indices\"\n",
    "    session = requests.Session()\n",
    "    result = []\n",
    "    try:\n",
    "        response = session_get(session, url, proxies=None, verify=False)\n",
    "        soup = BeautifulSoup(response.content, \"html.parser\")\n",
    "        table = soup.find(\"tbody\", {\"class\": \"datatable-v2_body__8TXQk\"})\n",
    "        if table is None:\n",
    "            return None\n",
    "        rows = table.find_all(\"tr\")\n",
    "        for row in rows:\n",
    "            cells = row.find_all(\"td\")\n",
    "            name = cells[1].text.strip()\n",
    "            country = cells[1].select_one(\"div > a > h4 > span > span > span\").get(\"aria-label\")\n",
    "            last = cells[2].text.strip()\n",
    "            high = cells[3].text.strip()\n",
    "            low = cells[4].text.strip()\n",
    "            chg = cells[5].text.strip()\n",
    "            chgPercent = cells[6].text.strip()\n",
    "            time = cells[7].text.strip()\n",
    "\n",
    "            data = {\n",
    "                'country': country,\n",
    "                'name': name,\n",
    "                'last': last,\n",
    "                'high': high,\n",
    "                'low': low,\n",
    "                'chg': chg,\n",
    "                'chgPercent': chgPercent,\n",
    "                'time': time\n",
    "            }\n",
    "            result.append(data)\n",
    "    except Exception as e:\n",
    "        print(e)\n",
    "    return result"
   ]
  },
  {
   "cell_type": "code",
   "execution_count": 33,
   "metadata": {},
   "outputs": [
    {
     "name": "stderr",
     "output_type": "stream",
     "text": [
      "e:\\JW_projects\\China\\backend\\venv\\Lib\\site-packages\\urllib3\\connectionpool.py:1103: InsecureRequestWarning: Unverified HTTPS request is being made to host 'www.investing.com'. Adding certificate verification is strongly advised. See: https://urllib3.readthedocs.io/en/latest/advanced-usage.html#tls-warnings\n",
      "  warnings.warn(\n"
     ]
    },
    {
     "name": "stdout",
     "output_type": "stream",
     "text": [
      "[{'country': 'Poland', 'name': 'WIG20', 'last': '2,581.80', 'high': '2,583.16', 'low': '2,574.65', 'chg': '-11.30', 'chgPercent': '-0.44%', 'time': '03:08:00'}, {'country': 'Türkiye', 'name': 'BIST 100', 'last': '10,739.57', 'high': '10,775.00', 'low': '10,633.93', 'chg': '0.00', 'chgPercent': '0.00%', 'time': '20/05'}, {'country': 'Saudi Arabia', 'name': 'Tadawul All Share', 'last': '12,125.36', 'high': '12,179.43', 'low': '12,059.17', 'chg': '0.00', 'chgPercent': '0.00%', 'time': '20/05'}, {'country': 'China', 'name': 'Shanghai', 'last': '3,157.97', 'high': '3,165.22', 'low': '3,148.34', 'chg': '-13.18', 'chgPercent': '-0.42%', 'time': '03:07:42'}, {'country': 'China', 'name': 'SZSE Component', 'last': '9,669.77', 'high': '9,730.28', 'low': '9,649.15', 'chg': '-81.05', 'chgPercent': '-0.83%', 'time': '02:52:57'}, {'country': 'China', 'name': 'China A50', 'last': '12,805.83', 'high': '12,847.60', 'low': '12,779.68', 'chg': '-41.12', 'chgPercent': '-0.32%', 'time': '02:52:00'}, {'country': 'China', 'name': 'DJ Shanghai', 'last': '431.88', 'high': '435.14', 'low': '431.80', 'chg': '-3.26', 'chgPercent': '-0.75%', 'time': '02:23:00'}, {'country': 'Taiwan', 'name': 'Taiwan Weighted', 'last': '21,271.63', 'high': '21,338.35', 'low': '21,102.18', 'chg': '-32.63', 'chgPercent': '-0.15%', 'time': '20/05'}, {'country': 'Thailand', 'name': 'SET', 'last': '1,371.07', 'high': '1,376.94', 'low': '1,369.21', 'chg': '-7.63', 'chgPercent': '-0.55%', 'time': '01:30:00'}, {'country': 'South Korea', 'name': 'KOSPI', 'last': '2,724.21', 'high': '2,734.48', 'low': '2,719.74', 'chg': '-17.93', 'chgPercent': '-0.65%', 'time': '02:30:30'}, {'country': 'Indonesia', 'name': 'IDX Composite', 'last': '7,214.03', 'high': '7,295.06', 'low': '7,209.20', 'chg': '-52.66', 'chgPercent': '-0.72%', 'time': '02:58:09'}, {'country': 'India', 'name': 'Nifty 50', 'last': '22,548.10', 'high': '22,549.80', 'low': '22,404.55', 'chg': '+46.10', 'chgPercent': '+0.20%', 'time': '03:07:22'}, {'country': 'India', 'name': 'BSE Sensex', 'last': '74,005.83', 'high': '74,065.66', 'low': '73,762.37', 'chg': '-0.11', 'chgPercent': '0.00%', 'time': '02:53:05'}, {'country': 'Philippines', 'name': 'PSEi Composite', 'last': '6,614.77', 'high': '6,704.14', 'low': '6,614.51', 'chg': '-68.01', 'chgPercent': '-1.02%', 'time': '02:49:00'}, {'country': 'Pakistan', 'name': 'Karachi 100', 'last': '75,415.40', 'high': '75,482.46', 'low': '74,958.10', 'chg': '+331.40', 'chgPercent': '+0.44%', 'time': '02:37:14'}, {'country': 'Vietnam', 'name': 'VN 30', 'last': '1,301.04', 'high': '1,313.19', 'low': '1,301.00', 'chg': '-11.51', 'chgPercent': '-0.88%', 'time': '03:07:27'}]\n",
      "[{'country': 'United States', 'name': 'Dow Jones', 'last': '39,806.77', 'high': '40,077.40', 'low': '39,787.09', 'chg': '-196.82', 'chgPercent': '-0.49%', 'time': '20/05'}]\n",
      "[{'country': 'United States', 'name': 'Nasdaq', 'last': '16,794.87', 'high': '16,823.83', 'low': '16,695.69', 'chg': '+108.91', 'chgPercent': '+0.65%', 'time': '20/05'}]\n"
     ]
    }
   ],
   "source": [
    "# Assuming go() is a function that returns the list of items\n",
    "items = go()\n",
    "\n",
    "# Define the filters\n",
    "asia_filters = {\"WIG20\", \"BIST 100\", \"Tadawul All Share\", \"Nikkei 225\", \"Shanghai\", \"SZSE Component\", \"China A50\", \"DJ Shanghai\", \"Hang Seng\", \"Taiwan Weighted\", \"SET\", \"KOSPI\", \"IDX Composite\", \"Nifty 50\", \"BSE Sensex\", \"PSEi Composite\", \"Karachi 100\", \"VN 30\"}\n",
    "dj_filter = \"Dow Jones\"\n",
    "nas_filter = \"Nasdaq\"\n",
    "\n",
    "# Initialize lists for filtered data\n",
    "asia_data = []\n",
    "dow_jones_data = []\n",
    "nas_data = []\n",
    "\n",
    "# Filter items based on the defined filters\n",
    "for item in items:\n",
    "    name = item['name']\n",
    "    if name == dj_filter:\n",
    "        dow_jones_data.append(item)\n",
    "    elif name == nas_filter:\n",
    "        nas_data.append(item)\n",
    "    elif name in asia_filters:\n",
    "        asia_data.append(item)\n",
    "\n",
    "# Print the filtered Asia data\n",
    "print(asia_data)\n",
    "\n",
    "# If you also want to print the other filtered data\n",
    "print(dow_jones_data)\n",
    "print(nas_data)\n"
   ]
  },
  {
   "cell_type": "code",
   "execution_count": null,
   "metadata": {},
   "outputs": [],
   "source": []
  }
 ],
 "metadata": {
  "kernelspec": {
   "display_name": "venv",
   "language": "python",
   "name": "python3"
  },
  "language_info": {
   "codemirror_mode": {
    "name": "ipython",
    "version": 3
   },
   "file_extension": ".py",
   "mimetype": "text/x-python",
   "name": "python",
   "nbconvert_exporter": "python",
   "pygments_lexer": "ipython3",
   "version": "3.11.6"
  }
 },
 "nbformat": 4,
 "nbformat_minor": 2
}
